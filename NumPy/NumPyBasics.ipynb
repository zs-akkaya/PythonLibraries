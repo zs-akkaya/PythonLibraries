{
 "cells": [
  {
   "cell_type": "markdown",
   "id": "f5298368-ecbd-4835-81da-752e5ad44196",
   "metadata": {},
   "source": [
    "# NUMPY"
   ]
  },
  {
   "cell_type": "markdown",
   "id": "a2636aaf-d0ed-47a1-872e-59a6cd0b4265",
   "metadata": {},
   "source": [
    "## np.array, np.zeros, np.full, np.arange, np.random.randint, .shape"
   ]
  },
  {
   "cell_type": "code",
   "execution_count": 1,
   "id": "dfa6a5bf-19fa-422d-a964-751efc24299f",
   "metadata": {},
   "outputs": [],
   "source": [
    "import numpy as np"
   ]
  },
  {
   "cell_type": "code",
   "execution_count": 2,
   "id": "25b97bf4-249c-48a6-b786-fd4e25c45eaa",
   "metadata": {},
   "outputs": [
    {
     "data": {
      "text/plain": [
       "array([1, 2, 3])"
      ]
     },
     "execution_count": 2,
     "metadata": {},
     "output_type": "execute_result"
    }
   ],
   "source": [
    "singleDimArr = np.array([1, 2, 3])\n",
    "singleDimArr"
   ]
  },
  {
   "cell_type": "code",
   "execution_count": 3,
   "id": "c0da271d-b31c-4aa8-94ef-e84bd5f66a08",
   "metadata": {},
   "outputs": [
    {
     "data": {
      "text/plain": [
       "array([[1, 2, 3],\n",
       "       [4, 5, 6]])"
      ]
     },
     "execution_count": 3,
     "metadata": {},
     "output_type": "execute_result"
    }
   ],
   "source": [
    "multiDimArr = np.array([[1, 2, 3], [4, 5, 6]])\n",
    "multiDimArr"
   ]
  },
  {
   "cell_type": "code",
   "execution_count": 4,
   "id": "888e39fb-6a97-439e-a78c-b3ff1f1caa28",
   "metadata": {},
   "outputs": [
    {
     "data": {
      "text/plain": [
       "(numpy.ndarray, numpy.ndarray)"
      ]
     },
     "execution_count": 4,
     "metadata": {},
     "output_type": "execute_result"
    }
   ],
   "source": [
    "type(singleDimArr), type(multiDimArr)"
   ]
  },
  {
   "cell_type": "code",
   "execution_count": 5,
   "id": "88b95a53-af3c-4f0b-9410-7c3f8a3b0485",
   "metadata": {},
   "outputs": [
    {
     "data": {
      "text/plain": [
       "array([[0., 0., 0.],\n",
       "       [0., 0., 0.],\n",
       "       [0., 0., 0.]])"
      ]
     },
     "execution_count": 5,
     "metadata": {},
     "output_type": "execute_result"
    }
   ],
   "source": [
    "zerosArr = np.zeros((3, 3))\n",
    "zerosArr"
   ]
  },
  {
   "cell_type": "code",
   "execution_count": 6,
   "id": "c7169a5e-0d12-4cc4-b554-e4ddb31ca0bb",
   "metadata": {},
   "outputs": [
    {
     "data": {
      "text/plain": [
       "array([[15, 15, 15, 15],\n",
       "       [15, 15, 15, 15]])"
      ]
     },
     "execution_count": 6,
     "metadata": {},
     "output_type": "execute_result"
    }
   ],
   "source": [
    "fullArr = np.full((2, 4), 15)\n",
    "fullArr"
   ]
  },
  {
   "cell_type": "code",
   "execution_count": 7,
   "id": "8248523e-cca9-44fc-ba13-2c55ac3c5ef9",
   "metadata": {},
   "outputs": [
    {
     "data": {
      "text/plain": [
       "array([10, 11, 12, 13, 14, 15, 16, 17, 18, 19, 20])"
      ]
     },
     "execution_count": 7,
     "metadata": {},
     "output_type": "execute_result"
    }
   ],
   "source": [
    "arrayRange = np.arange(10, 21)\n",
    "arrayRange"
   ]
  },
  {
   "cell_type": "code",
   "execution_count": 8,
   "id": "856d9d91-0001-450d-b8ce-f93e5686a3ef",
   "metadata": {},
   "outputs": [
    {
     "data": {
      "text/plain": [
       "array([10, 12, 14, 16, 18, 20])"
      ]
     },
     "execution_count": 8,
     "metadata": {},
     "output_type": "execute_result"
    }
   ],
   "source": [
    "arrayRangeEven = np.arange(10, 21, 2)\n",
    "arrayRangeEven"
   ]
  },
  {
   "cell_type": "code",
   "execution_count": 9,
   "id": "8993c4ed-b8d8-4f48-a708-e15e12bb915b",
   "metadata": {},
   "outputs": [
    {
     "data": {
      "text/plain": [
       "array([ 1, 59, 65, 96, 38])"
      ]
     },
     "execution_count": 9,
     "metadata": {},
     "output_type": "execute_result"
    }
   ],
   "source": [
    "randomIntegers = np.random.randint(1, 101, 5)\n",
    "randomIntegers"
   ]
  },
  {
   "cell_type": "markdown",
   "id": "5ebcbdcc-0f7f-41d7-92f6-98acf199005a",
   "metadata": {},
   "source": [
    "Changing a shape of an array"
   ]
  },
  {
   "cell_type": "code",
   "execution_count": 10,
   "id": "9a61191d-f241-4580-849b-6c91829deaa8",
   "metadata": {},
   "outputs": [
    {
     "data": {
      "text/plain": [
       "array([[1, 2, 3],\n",
       "       [4, 5, 6]])"
      ]
     },
     "execution_count": 10,
     "metadata": {},
     "output_type": "execute_result"
    }
   ],
   "source": [
    "multiDimArr"
   ]
  },
  {
   "cell_type": "code",
   "execution_count": 11,
   "id": "67b3e6e3-8942-46bf-94c7-14190d347786",
   "metadata": {},
   "outputs": [
    {
     "data": {
      "text/plain": [
       "(2, 3)"
      ]
     },
     "execution_count": 11,
     "metadata": {},
     "output_type": "execute_result"
    }
   ],
   "source": [
    "multiDimArr.shape"
   ]
  },
  {
   "cell_type": "code",
   "execution_count": 12,
   "id": "0755c592-10aa-41d4-9e60-ecd73a960fd7",
   "metadata": {},
   "outputs": [
    {
     "data": {
      "text/plain": [
       "array([[1, 2],\n",
       "       [3, 4],\n",
       "       [5, 6]])"
      ]
     },
     "execution_count": 12,
     "metadata": {},
     "output_type": "execute_result"
    }
   ],
   "source": [
    "multiDimArr.shape = (3,2)\n",
    "multiDimArr"
   ]
  },
  {
   "cell_type": "markdown",
   "id": "69a6c35f-ea47-4b91-be23-576ac361018d",
   "metadata": {},
   "source": [
    "## vstack, hstack, column_stack\n",
    "\n",
    "vstack = vertically stacked\n",
    "\n",
    "hstack = horizontally stacked\n",
    "\n",
    "column_stack"
   ]
  },
  {
   "cell_type": "code",
   "execution_count": 13,
   "id": "05cea063-37c5-4045-80dc-c441e6b48f70",
   "metadata": {},
   "outputs": [
    {
     "data": {
      "text/plain": [
       "array([[1, 2, 3],\n",
       "       [4, 5, 6],\n",
       "       [7, 8, 9]])"
      ]
     },
     "execution_count": 13,
     "metadata": {},
     "output_type": "execute_result"
    }
   ],
   "source": [
    "arr1 = np.array([1, 2, 3])\n",
    "arr2 = np.array([4, 5, 6])\n",
    "arr3 = np.array([7, 8, 9])\n",
    "np.vstack((arr1, arr2, arr3)) # The arrays must have the same shape along all but the first axis."
   ]
  },
  {
   "cell_type": "code",
   "execution_count": 14,
   "id": "50cb4bc3-4a5f-4fbd-b398-45b3acc575be",
   "metadata": {},
   "outputs": [
    {
     "data": {
      "text/plain": [
       "array([1, 2, 3, 4, 5, 6, 7, 8, 9])"
      ]
     },
     "execution_count": 14,
     "metadata": {},
     "output_type": "execute_result"
    }
   ],
   "source": [
    "np.hstack((arr1, arr2, arr3)) # The arrays must have the same shape along all but the second axis."
   ]
  },
  {
   "cell_type": "code",
   "execution_count": 15,
   "id": "e64128e4-3b71-42cf-8ce6-e1efd2227168",
   "metadata": {},
   "outputs": [
    {
     "data": {
      "text/plain": [
       "array([1, 2, 3, 4, 5, 6, 7, 8, 9, 0, 0, 0, 0, 0, 0])"
      ]
     },
     "execution_count": 15,
     "metadata": {},
     "output_type": "execute_result"
    }
   ],
   "source": [
    "arr4 = np.array([0, 0, 0, 0, 0, 0])\n",
    "np.hstack((arr1, arr2, arr3, arr4))"
   ]
  },
  {
   "cell_type": "code",
   "execution_count": 16,
   "id": "aa895a92-5ba7-4181-a2c2-cad6583974ff",
   "metadata": {},
   "outputs": [
    {
     "data": {
      "text/plain": [
       "array([[1, 4, 7],\n",
       "       [2, 5, 8],\n",
       "       [3, 6, 9]])"
      ]
     },
     "execution_count": 16,
     "metadata": {},
     "output_type": "execute_result"
    }
   ],
   "source": [
    "np.column_stack((arr1, arr2, arr3))"
   ]
  },
  {
   "cell_type": "markdown",
   "id": "fd896683-1bfa-4ea8-9eaf-5029f3b3aa27",
   "metadata": {},
   "source": [
    "## np.intersect1d, np.setdiff1d, np.sum\n",
    "\n",
    "intersection\n",
    "\n",
    "difference"
   ]
  },
  {
   "cell_type": "code",
   "execution_count": 17,
   "id": "9bf84ee7-d09c-499c-ae01-f1008363c98d",
   "metadata": {},
   "outputs": [],
   "source": [
    "arr1 = np.array([10, 20, 30])\n",
    "arr2 = np.array([30, 40, 50])"
   ]
  },
  {
   "cell_type": "code",
   "execution_count": 18,
   "id": "e745fbcf-0202-4f84-ab63-3482fb2dc8b5",
   "metadata": {},
   "outputs": [
    {
     "data": {
      "text/plain": [
       "array([30])"
      ]
     },
     "execution_count": 18,
     "metadata": {},
     "output_type": "execute_result"
    }
   ],
   "source": [
    "np.intersect1d(arr1, arr2)"
   ]
  },
  {
   "cell_type": "code",
   "execution_count": 19,
   "id": "a583d3e1-f49a-4fd6-bfd6-af6b0a2bbfb5",
   "metadata": {},
   "outputs": [
    {
     "data": {
      "text/plain": [
       "array([10, 20])"
      ]
     },
     "execution_count": 19,
     "metadata": {},
     "output_type": "execute_result"
    }
   ],
   "source": [
    "np.setdiff1d(arr1, arr2)"
   ]
  },
  {
   "cell_type": "code",
   "execution_count": 20,
   "id": "8e050ac9-4109-4856-8bdd-20ed9aff031a",
   "metadata": {},
   "outputs": [
    {
     "data": {
      "text/plain": [
       "array([40, 50])"
      ]
     },
     "execution_count": 20,
     "metadata": {},
     "output_type": "execute_result"
    }
   ],
   "source": [
    "np.setdiff1d(arr2, arr1)"
   ]
  },
  {
   "cell_type": "markdown",
   "id": "a270e67a-3eee-4774-8c47-72052dc0f468",
   "metadata": {},
   "source": [
    ".sum"
   ]
  },
  {
   "cell_type": "code",
   "execution_count": 21,
   "id": "d4dce078-3755-4b7b-8853-ee1c7fc8a283",
   "metadata": {},
   "outputs": [
    {
     "data": {
      "text/plain": [
       "np.int64(180)"
      ]
     },
     "execution_count": 21,
     "metadata": {},
     "output_type": "execute_result"
    }
   ],
   "source": [
    "np.sum([arr1, arr2])"
   ]
  },
  {
   "cell_type": "code",
   "execution_count": 22,
   "id": "0500d558-f73e-4003-97ea-7dbd8e956ed7",
   "metadata": {},
   "outputs": [
    {
     "data": {
      "text/plain": [
       "array([40, 60, 80])"
      ]
     },
     "execution_count": 22,
     "metadata": {},
     "output_type": "execute_result"
    }
   ],
   "source": [
    "np.sum([arr1, arr2], axis=0)"
   ]
  },
  {
   "cell_type": "code",
   "execution_count": 23,
   "id": "c3e77740-8e71-41e3-82f6-39ac6a0e3b01",
   "metadata": {},
   "outputs": [
    {
     "data": {
      "text/plain": [
       "array([ 60, 120])"
      ]
     },
     "execution_count": 23,
     "metadata": {},
     "output_type": "execute_result"
    }
   ],
   "source": [
    "np.sum([arr1, arr2], axis=1) # 10+20+30, 30+40+50"
   ]
  },
  {
   "cell_type": "code",
   "execution_count": 24,
   "id": "2e6ae7d0-2a7a-4b3a-a294-79904b7d1c9b",
   "metadata": {},
   "outputs": [
    {
     "data": {
      "text/plain": [
       "array([20, 30, 40])"
      ]
     },
     "execution_count": 24,
     "metadata": {},
     "output_type": "execute_result"
    }
   ],
   "source": [
    "arr1 + 10"
   ]
  },
  {
   "cell_type": "code",
   "execution_count": 25,
   "id": "cb63427d-c4dc-4b2c-8cc8-52a6d85b3d66",
   "metadata": {},
   "outputs": [
    {
     "data": {
      "text/plain": [
       "array([ 0, 10, 20])"
      ]
     },
     "execution_count": 25,
     "metadata": {},
     "output_type": "execute_result"
    }
   ],
   "source": [
    "arr1 - 10"
   ]
  },
  {
   "cell_type": "code",
   "execution_count": 26,
   "id": "acd01c07-715d-401c-ac6b-00f85fbe078a",
   "metadata": {},
   "outputs": [
    {
     "data": {
      "text/plain": [
       "array([100, 200, 300])"
      ]
     },
     "execution_count": 26,
     "metadata": {},
     "output_type": "execute_result"
    }
   ],
   "source": [
    "arr1 * 10"
   ]
  },
  {
   "cell_type": "code",
   "execution_count": 27,
   "id": "3a56cdaf-6d67-47e5-afc2-58d048604019",
   "metadata": {},
   "outputs": [
    {
     "data": {
      "text/plain": [
       "array([1., 2., 3.])"
      ]
     },
     "execution_count": 27,
     "metadata": {},
     "output_type": "execute_result"
    }
   ],
   "source": [
    "arr1 / 10"
   ]
  },
  {
   "cell_type": "markdown",
   "id": "31665602-4280-40a4-8e86-8946ed746a3f",
   "metadata": {},
   "source": [
    "## np.mean, np.median, np.std\n",
    "\n",
    "mean, median, standard deviation"
   ]
  },
  {
   "cell_type": "code",
   "execution_count": 28,
   "id": "26349861-6b34-497e-994a-683481f66be6",
   "metadata": {},
   "outputs": [
    {
     "data": {
      "text/plain": [
       "array([10, 20, 30])"
      ]
     },
     "execution_count": 28,
     "metadata": {},
     "output_type": "execute_result"
    }
   ],
   "source": [
    "arr1"
   ]
  },
  {
   "cell_type": "code",
   "execution_count": 29,
   "id": "926b998c-093d-4dc5-a0e5-954c810805bc",
   "metadata": {},
   "outputs": [
    {
     "data": {
      "text/plain": [
       "np.float64(20.0)"
      ]
     },
     "execution_count": 29,
     "metadata": {},
     "output_type": "execute_result"
    }
   ],
   "source": [
    "np.mean(arr1)"
   ]
  },
  {
   "cell_type": "code",
   "execution_count": 30,
   "id": "b8eebca7-220f-41da-9969-fa4cbd700869",
   "metadata": {},
   "outputs": [
    {
     "data": {
      "text/plain": [
       "np.float64(20.0)"
      ]
     },
     "execution_count": 30,
     "metadata": {},
     "output_type": "execute_result"
    }
   ],
   "source": [
    "np.median(arr1)"
   ]
  },
  {
   "cell_type": "code",
   "execution_count": 31,
   "id": "b445a3f0-0d03-4617-8076-a8f23f117ff6",
   "metadata": {},
   "outputs": [
    {
     "data": {
      "text/plain": [
       "np.float64(8.16496580927726)"
      ]
     },
     "execution_count": 31,
     "metadata": {},
     "output_type": "execute_result"
    }
   ],
   "source": [
    "np.std(arr1)"
   ]
  },
  {
   "cell_type": "markdown",
   "id": "b64886a3-3901-48f5-a21b-e33430b90b4d",
   "metadata": {},
   "source": [
    "## np.save, np.load"
   ]
  },
  {
   "cell_type": "code",
   "execution_count": 32,
   "id": "61daf6e6-8a77-4560-ab6e-719a5452d51c",
   "metadata": {},
   "outputs": [],
   "source": [
    "np.save('my_numpy_array', arr1)"
   ]
  },
  {
   "cell_type": "code",
   "execution_count": 33,
   "id": "e7276041-ea52-417f-9efe-970a30759223",
   "metadata": {},
   "outputs": [
    {
     "data": {
      "text/plain": [
       "array([10, 20, 30])"
      ]
     },
     "execution_count": 33,
     "metadata": {},
     "output_type": "execute_result"
    }
   ],
   "source": [
    "np.load('my_numpy_array.npy')"
   ]
  },
  {
   "cell_type": "markdown",
   "id": "1cec4b8e-fffe-45b6-9476-eb2b685f3228",
   "metadata": {},
   "source": [
    "## .transpose(), .dot()"
   ]
  },
  {
   "cell_type": "code",
   "execution_count": 34,
   "id": "237d3335-5470-4b46-924d-7c612ce3d893",
   "metadata": {},
   "outputs": [
    {
     "data": {
      "text/plain": [
       "array([[1, 2, 3],\n",
       "       [4, 5, 6],\n",
       "       [7, 8, 9]])"
      ]
     },
     "execution_count": 34,
     "metadata": {},
     "output_type": "execute_result"
    }
   ],
   "source": [
    "matrix = np.array([[1, 2, 3], [4, 5, 6], [7, 8, 9]])\n",
    "matrix"
   ]
  },
  {
   "cell_type": "code",
   "execution_count": 35,
   "id": "3ee3328a-2644-493c-8344-075f6f6d5a9c",
   "metadata": {},
   "outputs": [
    {
     "data": {
      "text/plain": [
       "(array([1, 4, 7]), array([2, 5, 8]), array([3, 6, 9]))"
      ]
     },
     "execution_count": 35,
     "metadata": {},
     "output_type": "execute_result"
    }
   ],
   "source": [
    "matrix[:,0], matrix[:,1], matrix[:,2]"
   ]
  },
  {
   "cell_type": "code",
   "execution_count": 36,
   "id": "ae6fad93-6073-4b82-b5e4-23041b3f7f23",
   "metadata": {},
   "outputs": [
    {
     "data": {
      "text/plain": [
       "array([[1, 4, 7],\n",
       "       [2, 5, 8],\n",
       "       [3, 6, 9]])"
      ]
     },
     "execution_count": 36,
     "metadata": {},
     "output_type": "execute_result"
    }
   ],
   "source": [
    "matrix.transpose()"
   ]
  },
  {
   "cell_type": "code",
   "execution_count": 37,
   "id": "ee608883-a9c0-4f59-9f03-e928c9871c85",
   "metadata": {},
   "outputs": [
    {
     "data": {
      "text/plain": [
       "(array([[1, 2],\n",
       "        [3, 4]]),\n",
       " array([[5, 6],\n",
       "        [7, 8]]))"
      ]
     },
     "execution_count": 37,
     "metadata": {},
     "output_type": "execute_result"
    }
   ],
   "source": [
    "matrix1 = np.array([[1, 2], [3, 4]])\n",
    "matrix2 = np.array([[5, 6], [7, 8]])\n",
    "matrix1, matrix2"
   ]
  },
  {
   "cell_type": "code",
   "execution_count": 38,
   "id": "6385d0f4-7417-42ab-a0ee-efb7376461b2",
   "metadata": {},
   "outputs": [
    {
     "data": {
      "text/plain": [
       "array([[19, 22],\n",
       "       [43, 50]])"
      ]
     },
     "execution_count": 38,
     "metadata": {},
     "output_type": "execute_result"
    }
   ],
   "source": [
    "matrix1.dot(matrix2)"
   ]
  },
  {
   "cell_type": "code",
   "execution_count": 39,
   "id": "a28cac34-9e43-4803-be90-34be612ed9d6",
   "metadata": {},
   "outputs": [
    {
     "data": {
      "text/plain": [
       "array([[23, 34],\n",
       "       [31, 46]])"
      ]
     },
     "execution_count": 39,
     "metadata": {},
     "output_type": "execute_result"
    }
   ],
   "source": [
    "matrix2.dot(matrix1)"
   ]
  }
 ],
 "metadata": {
  "kernelspec": {
   "display_name": "Python 3 (ipykernel)",
   "language": "python",
   "name": "python3"
  },
  "language_info": {
   "codemirror_mode": {
    "name": "ipython",
    "version": 3
   },
   "file_extension": ".py",
   "mimetype": "text/x-python",
   "name": "python",
   "nbconvert_exporter": "python",
   "pygments_lexer": "ipython3",
   "version": "3.9.6"
  }
 },
 "nbformat": 4,
 "nbformat_minor": 5
}
